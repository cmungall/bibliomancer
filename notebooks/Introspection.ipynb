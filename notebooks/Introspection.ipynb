{
 "cells": [
  {
   "cell_type": "code",
   "execution_count": 1,
   "id": "c66d5e16-0d59-4701-ad65-77c8f3447720",
   "metadata": {},
   "outputs": [],
   "source": [
    "import bibliomancer.datamodel.biblio as bibm"
   ]
  },
  {
   "cell_type": "code",
   "execution_count": 2,
   "id": "1d8ae5ac-2c32-48c8-b179-512ca04ab82f",
   "metadata": {},
   "outputs": [
    {
     "data": {
      "text/plain": [
       "bibliomancer.datamodel.biblio.Entry"
      ]
     },
     "execution_count": 2,
     "metadata": {},
     "output_type": "execute_result"
    }
   ],
   "source": [
    "bibm.Entry"
   ]
  },
  {
   "cell_type": "code",
   "execution_count": 3,
   "id": "00931f4d-f145-417e-ac80-16dcba278fd4",
   "metadata": {},
   "outputs": [
    {
     "data": {
      "text/plain": [
       "{'type': FieldInfo(annotation=Union[TypeEnum, NoneType], required=False),\n",
       " 'title': FieldInfo(annotation=Union[List[str], NoneType], required=False, default_factory=list),\n",
       " 'authors': FieldInfo(annotation=Union[List[str], NoneType], required=False, default_factory=list),\n",
       " 'journal': FieldInfo(annotation=Union[str, NoneType], required=False),\n",
       " 'doi': FieldInfo(annotation=Union[str, NoneType], required=False),\n",
       " 'pmid': FieldInfo(annotation=Union[int, NoneType], required=False, description='A unique identifier for a published article in the PubMed database'),\n",
       " 'pmcid': FieldInfo(annotation=Union[str, NoneType], required=False),\n",
       " 'year': FieldInfo(annotation=Union[int, NoneType], required=False),\n",
       " 'volume': FieldInfo(annotation=Union[str, NoneType], required=False),\n",
       " 'issue': FieldInfo(annotation=Union[str, NoneType], required=False),\n",
       " 'pages': FieldInfo(annotation=Union[str, NoneType], required=False, description='Number of pages within the container.'),\n",
       " 'num_authors': FieldInfo(annotation=Union[int, NoneType], required=False),\n",
       " 'position': FieldInfo(annotation=Union[int, NoneType], required=False, description='Description for \\'position\\' SlotDefinition: \"Specifies the location or order within the container.\"'),\n",
       " 'rank': FieldInfo(annotation=Union[int, NoneType], required=False),\n",
       " 'significance': FieldInfo(annotation=Union[float, NoneType], required=False),\n",
       " 'role': FieldInfo(annotation=Union[RoleEnum, NoneType], required=False),\n",
       " 'local_id': FieldInfo(annotation=Union[str, NoneType], required=False, description='Description: \"Unique identifier assigned to an item within the context of the container.\"')}"
      ]
     },
     "execution_count": 3,
     "metadata": {},
     "output_type": "execute_result"
    }
   ],
   "source": [
    "bibm.Entry.model_fields"
   ]
  },
  {
   "cell_type": "code",
   "execution_count": 4,
   "id": "6850fce8-90da-486f-8527-1259b1069bf0",
   "metadata": {},
   "outputs": [
    {
     "data": {
      "text/plain": [
       "FieldInfo(annotation=Union[TypeEnum, NoneType], required=False)"
      ]
     },
     "execution_count": 4,
     "metadata": {},
     "output_type": "execute_result"
    }
   ],
   "source": [
    "bibm.Entry.model_fields[\"type\"]"
   ]
  },
  {
   "cell_type": "code",
   "execution_count": 5,
   "id": "68b570b8-0e0a-4aed-bf91-af9bc6656213",
   "metadata": {},
   "outputs": [
    {
     "data": {
      "text/plain": [
       "'title'"
      ]
     },
     "execution_count": 5,
     "metadata": {},
     "output_type": "execute_result"
    }
   ],
   "source": [
    "bibm.__slot_names__.TITLE"
   ]
  },
  {
   "cell_type": "code",
   "execution_count": 6,
   "id": "e5ca0bab-8b22-4df3-8004-7c0548664107",
   "metadata": {},
   "outputs": [
    {
     "data": {
      "text/plain": [
       "'title'"
      ]
     },
     "execution_count": 6,
     "metadata": {},
     "output_type": "execute_result"
    }
   ],
   "source": [
    "V = bibm.__slot_names__\n",
    "V.TITLE"
   ]
  },
  {
   "cell_type": "code",
   "execution_count": 8,
   "id": "6818a04d-afa8-4efb-87f5-e86d6b838930",
   "metadata": {},
   "outputs": [
    {
     "data": {
      "text/plain": [
       "'title'"
      ]
     },
     "execution_count": 8,
     "metadata": {},
     "output_type": "execute_result"
    }
   ],
   "source": [
    "bibm.Entry.__slot_names__.TITLE"
   ]
  },
  {
   "cell_type": "code",
   "execution_count": 10,
   "id": "e0e7e9f9-65ad-47f5-9b29-a75fa64cd0e8",
   "metadata": {},
   "outputs": [
    {
     "data": {
      "text/plain": [
       "{'TITLE': 'title', 'AUTHORS': 'authors', 'JOURNAL': 'journal'}"
      ]
     },
     "execution_count": 10,
     "metadata": {},
     "output_type": "execute_result"
    }
   ],
   "source": [
    "V.__dict__"
   ]
  },
  {
   "cell_type": "code",
   "execution_count": 11,
   "id": "ec375e29-828d-4fcc-8da3-709a46318394",
   "metadata": {},
   "outputs": [],
   "source": [
    "import bibliomancer.datamodel.biblio_td as bibmi"
   ]
  },
  {
   "cell_type": "code",
   "execution_count": 16,
   "id": "6b8117c0-82e3-4404-8014-3c5910d9546e",
   "metadata": {},
   "outputs": [
    {
     "name": "stdout",
     "output_type": "stream",
     "text": [
      "x\n"
     ]
    },
    {
     "ename": "AttributeError",
     "evalue": "'dict' object has no attribute 'title'",
     "output_type": "error",
     "traceback": [
      "\u001b[0;31m---------------------------------------------------------------------------\u001b[0m",
      "\u001b[0;31mAttributeError\u001b[0m                            Traceback (most recent call last)",
      "Cell \u001b[0;32mIn[16], line 5\u001b[0m\n\u001b[1;32m      2\u001b[0m     \u001b[38;5;28mprint\u001b[39m(e[\u001b[38;5;124m\"\u001b[39m\u001b[38;5;124mtitle\u001b[39m\u001b[38;5;124m\"\u001b[39m])\n\u001b[1;32m      3\u001b[0m     \u001b[38;5;28mprint\u001b[39m(e\u001b[38;5;241m.\u001b[39mtitle)\n\u001b[0;32m----> 5\u001b[0m \u001b[43mfoo\u001b[49m\u001b[43m(\u001b[49m\u001b[43m{\u001b[49m\u001b[38;5;124;43m\"\u001b[39;49m\u001b[38;5;124;43mtitle\u001b[39;49m\u001b[38;5;124;43m\"\u001b[39;49m\u001b[43m:\u001b[49m\u001b[43m \u001b[49m\u001b[38;5;124;43m\"\u001b[39;49m\u001b[38;5;124;43mx\u001b[39;49m\u001b[38;5;124;43m\"\u001b[39;49m\u001b[43m}\u001b[49m\u001b[43m)\u001b[49m\n",
      "Cell \u001b[0;32mIn[16], line 3\u001b[0m, in \u001b[0;36mfoo\u001b[0;34m(e)\u001b[0m\n\u001b[1;32m      1\u001b[0m \u001b[38;5;28;01mdef\u001b[39;00m \u001b[38;5;21mfoo\u001b[39m(e: bibmi\u001b[38;5;241m.\u001b[39mEntry):\n\u001b[1;32m      2\u001b[0m     \u001b[38;5;28mprint\u001b[39m(e[\u001b[38;5;124m\"\u001b[39m\u001b[38;5;124mtitle\u001b[39m\u001b[38;5;124m\"\u001b[39m])\n\u001b[0;32m----> 3\u001b[0m     \u001b[38;5;28mprint\u001b[39m(\u001b[43me\u001b[49m\u001b[38;5;241;43m.\u001b[39;49m\u001b[43mtitle\u001b[49m)\n",
      "\u001b[0;31mAttributeError\u001b[0m: 'dict' object has no attribute 'title'"
     ]
    }
   ],
   "source": [
    "def foo(e: bibmi.Entry):\n",
    "    print(e[\"title\"])\n",
    "\n",
    "foo({\"title\": \"x\"})"
   ]
  },
  {
   "cell_type": "code",
   "execution_count": 17,
   "id": "720df7fe-f578-4311-bda1-de5c1f2ece16",
   "metadata": {},
   "outputs": [
    {
     "data": {
      "text/plain": [
       "'bibliomancer.datamodel.biblio'"
      ]
     },
     "execution_count": 17,
     "metadata": {},
     "output_type": "execute_result"
    }
   ],
   "source": [
    "bibm.__name__"
   ]
  },
  {
   "cell_type": "code",
   "execution_count": null,
   "id": "0c1a724f-3683-4629-abb4-c853c9100ece",
   "metadata": {},
   "outputs": [],
   "source": []
  }
 ],
 "metadata": {
  "kernelspec": {
   "display_name": "Python 3 (ipykernel)",
   "language": "python",
   "name": "python3"
  },
  "language_info": {
   "codemirror_mode": {
    "name": "ipython",
    "version": 3
   },
   "file_extension": ".py",
   "mimetype": "text/x-python",
   "name": "python",
   "nbconvert_exporter": "python",
   "pygments_lexer": "ipython3",
   "version": "3.10.9"
  }
 },
 "nbformat": 4,
 "nbformat_minor": 5
}
